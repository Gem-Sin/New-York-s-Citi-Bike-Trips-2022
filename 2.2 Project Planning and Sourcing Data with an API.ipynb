{
 "cells": [
  {
   "cell_type": "markdown",
   "id": "cc989122-225b-4499-994f-14e0d3cabfa8",
   "metadata": {},
   "source": [
    "# This script contains the following: \n",
    "## 1. Import libraries and data\n",
    "## 2. Import weather data\n",
    "## 3. Wrangle weather data\n",
    "## 4. Merge data"
   ]
  },
  {
   "cell_type": "markdown",
   "id": "c23e987d-6cf0-4d12-a69a-b272242aa72e",
   "metadata": {},
   "source": [
    "### 1. Import libraries and data"
   ]
  },
  {
   "cell_type": "code",
   "execution_count": 1,
   "id": "592e764b-5925-4d01-89d0-458901c67866",
   "metadata": {},
   "outputs": [],
   "source": [
    "import pandas as pd\n",
    "import numpy as np\n",
    "import os\n",
    "import requests\n",
    "import json\n",
    "from datetime import datetime"
   ]
  },
  {
   "cell_type": "code",
   "execution_count": 2,
   "id": "c3c31e11-bc60-4c98-8dd5-67686510ad6f",
   "metadata": {},
   "outputs": [],
   "source": [
    "# Create path\n",
    "folderpath = r'/Users/ianfleming/Documents/2022-citibike-tripdata'"
   ]
  },
  {
   "cell_type": "code",
   "execution_count": 3,
   "id": "d990b16b-1be9-4227-9a74-a184338d3dc8",
   "metadata": {},
   "outputs": [
    {
     "name": "stdout",
     "output_type": "stream",
     "text": [
      "True\n"
     ]
    }
   ],
   "source": [
    "print(os.path.exists(folderpath))"
   ]
  },
  {
   "cell_type": "code",
   "execution_count": 4,
   "id": "2325fd81-7354-4ae6-a105-103d020d713b",
   "metadata": {},
   "outputs": [
    {
     "data": {
      "text/plain": [
       "['/Users/ianfleming/Documents/2022-citibike-tripdata/202209-citibike-tripdata.zip',\n",
       " '/Users/ianfleming/Documents/2022-citibike-tripdata/202201-citibike-tripdata.zip',\n",
       " '/Users/ianfleming/Documents/2022-citibike-tripdata/.DS_Store']"
      ]
     },
     "execution_count": 4,
     "metadata": {},
     "output_type": "execute_result"
    }
   ],
   "source": [
    "# Create a list with all files in the folder\n",
    "filepaths = [os.path.join(folderpath, name) for name in os.listdir(folderpath)]\n",
    "filepaths[:3]  # to check"
   ]
  },
  {
   "cell_type": "markdown",
   "id": "58b53521-3cff-4f8e-8dfe-65c5ce23eff9",
   "metadata": {},
   "source": [
    "I had two options- either unzip each months file manually in the folder or import zipfile library and unzip them in Jupyter. I chose the later for efficiently and new learning. "
   ]
  },
  {
   "cell_type": "code",
   "execution_count": 5,
   "id": "5ef253a0-b949-4fea-a3f3-152c077d497c",
   "metadata": {},
   "outputs": [],
   "source": [
    "import zipfile"
   ]
  },
  {
   "cell_type": "code",
   "execution_count": 6,
   "id": "d4ae265b-a048-4cde-a4b5-f9e6ea7cdacf",
   "metadata": {},
   "outputs": [],
   "source": [
    "# Loop through all zip files in the folder and extract them\n",
    "for file in os.listdir(folderpath):\n",
    "    if file.endswith(\".zip\"):\n",
    "        file_path = os.path.join(folderpath, file)\n",
    "        with zipfile.ZipFile(file_path, 'r') as zip_ref:\n",
    "            zip_ref.extractall(folderpath)"
   ]
  },
  {
   "cell_type": "code",
   "execution_count": 7,
   "id": "7147fbe3-1db3-4616-8825-433ffe52d438",
   "metadata": {},
   "outputs": [
    {
     "name": "stdout",
     "output_type": "stream",
     "text": [
      "All .zip files have been extracted successfully!\n"
     ]
    }
   ],
   "source": [
    "print(\"All .zip files have been extracted successfully!\")"
   ]
  },
  {
   "cell_type": "code",
   "execution_count": 8,
   "id": "a87e31ea-6680-4b0a-9772-112e710d6614",
   "metadata": {},
   "outputs": [
    {
     "name": "stdout",
     "output_type": "stream",
     "text": [
      "CSV files found:\n",
      " ['202208-citibike-tripdata_3.csv', '202207-citibike-tripdata_2.csv', '202207-citibike-tripdata_3.csv', '202208-citibike-tripdata_2.csv', '202207-citibike-tripdata_1.csv'] ...\n"
     ]
    }
   ],
   "source": [
    "# List CSVs to double-check\n",
    "csv_files = [name for name in os.listdir(folderpath) if name.endswith(\".csv\")]\n",
    "print(\"CSV files found:\\n\", csv_files[:5], \"...\")\n"
   ]
  },
  {
   "cell_type": "code",
   "execution_count": 9,
   "id": "20c5afa6-3b90-42e4-9c31-d251b287c6eb",
   "metadata": {},
   "outputs": [
    {
     "data": {
      "text/plain": [
       "['/Users/ianfleming/Documents/2022-citibike-tripdata/202208-citibike-tripdata_3.csv',\n",
       " '/Users/ianfleming/Documents/2022-citibike-tripdata/202207-citibike-tripdata_2.csv',\n",
       " '/Users/ianfleming/Documents/2022-citibike-tripdata/202207-citibike-tripdata_3.csv',\n",
       " '/Users/ianfleming/Documents/2022-citibike-tripdata/202208-citibike-tripdata_2.csv',\n",
       " '/Users/ianfleming/Documents/2022-citibike-tripdata/202207-citibike-tripdata_1.csv']"
      ]
     },
     "execution_count": 9,
     "metadata": {},
     "output_type": "execute_result"
    }
   ],
   "source": [
    "# Recreate the filepaths list for the extracted CSVs\n",
    "filepaths = [os.path.join(folderpath, name) for name in os.listdir(folderpath) if name.endswith(\".csv\")]\n",
    "filepaths[:5]  # quick check"
   ]
  },
  {
   "cell_type": "code",
   "execution_count": 11,
   "id": "7e96c8c7-ba5c-45e9-918f-2b640c6fdd38",
   "metadata": {},
   "outputs": [],
   "source": [
    "# Create dataframe\n",
    "df_list = [pd.read_csv(file, low_memory=False) for file in filepaths]\n"
   ]
  },
  {
   "cell_type": "code",
   "execution_count": 12,
   "id": "0c96f07f-aebf-4215-bca2-bf0748bab529",
   "metadata": {},
   "outputs": [],
   "source": [
    "# Create dataframe\n",
    "citibike_2022 = pd.concat(df_list, ignore_index=True)\n"
   ]
  },
  {
   "cell_type": "code",
   "execution_count": 13,
   "id": "8bf43065-9979-42c1-85ae-2c850aedb0b3",
   "metadata": {},
   "outputs": [
    {
     "data": {
      "text/html": [
       "<div>\n",
       "<style scoped>\n",
       "    .dataframe tbody tr th:only-of-type {\n",
       "        vertical-align: middle;\n",
       "    }\n",
       "\n",
       "    .dataframe tbody tr th {\n",
       "        vertical-align: top;\n",
       "    }\n",
       "\n",
       "    .dataframe thead th {\n",
       "        text-align: right;\n",
       "    }\n",
       "</style>\n",
       "<table border=\"1\" class=\"dataframe\">\n",
       "  <thead>\n",
       "    <tr style=\"text-align: right;\">\n",
       "      <th></th>\n",
       "      <th>ride_id</th>\n",
       "      <th>rideable_type</th>\n",
       "      <th>started_at</th>\n",
       "      <th>ended_at</th>\n",
       "      <th>start_station_name</th>\n",
       "      <th>start_station_id</th>\n",
       "      <th>end_station_name</th>\n",
       "      <th>end_station_id</th>\n",
       "      <th>start_lat</th>\n",
       "      <th>start_lng</th>\n",
       "      <th>end_lat</th>\n",
       "      <th>end_lng</th>\n",
       "      <th>member_casual</th>\n",
       "    </tr>\n",
       "  </thead>\n",
       "  <tbody>\n",
       "    <tr>\n",
       "      <th>0</th>\n",
       "      <td>9D0DC440CB40CF8E</td>\n",
       "      <td>electric_bike</td>\n",
       "      <td>2022-08-27 13:56:47.728</td>\n",
       "      <td>2022-08-27 14:02:56.651</td>\n",
       "      <td>Flatbush Ave &amp; Ocean Ave</td>\n",
       "      <td>3704.04</td>\n",
       "      <td>3 St &amp; Prospect Park West</td>\n",
       "      <td>3865.05</td>\n",
       "      <td>40.663657</td>\n",
       "      <td>-73.963014</td>\n",
       "      <td>40.668132</td>\n",
       "      <td>-73.973638</td>\n",
       "      <td>casual</td>\n",
       "    </tr>\n",
       "    <tr>\n",
       "      <th>1</th>\n",
       "      <td>2214991DFBE5C4D7</td>\n",
       "      <td>electric_bike</td>\n",
       "      <td>2022-08-20 10:37:02.756</td>\n",
       "      <td>2022-08-20 10:45:56.631</td>\n",
       "      <td>Forsyth St\\t&amp; Grand St</td>\n",
       "      <td>5382.07</td>\n",
       "      <td>E 11 St &amp; 1 Ave</td>\n",
       "      <td>5746.14</td>\n",
       "      <td>40.717798</td>\n",
       "      <td>-73.993161</td>\n",
       "      <td>40.729538</td>\n",
       "      <td>-73.984267</td>\n",
       "      <td>casual</td>\n",
       "    </tr>\n",
       "    <tr>\n",
       "      <th>2</th>\n",
       "      <td>20C5D469563B6337</td>\n",
       "      <td>classic_bike</td>\n",
       "      <td>2022-08-31 18:55:03.051</td>\n",
       "      <td>2022-08-31 19:03:37.344</td>\n",
       "      <td>Perry St &amp; Bleecker St</td>\n",
       "      <td>5922.07</td>\n",
       "      <td>Grand St &amp; Greene St</td>\n",
       "      <td>5500.02</td>\n",
       "      <td>40.735354</td>\n",
       "      <td>-74.004831</td>\n",
       "      <td>40.721700</td>\n",
       "      <td>-74.002381</td>\n",
       "      <td>member</td>\n",
       "    </tr>\n",
       "    <tr>\n",
       "      <th>3</th>\n",
       "      <td>3E8791885BC189D1</td>\n",
       "      <td>classic_bike</td>\n",
       "      <td>2022-08-02 08:05:00.250</td>\n",
       "      <td>2022-08-02 08:16:52.063</td>\n",
       "      <td>FDR Drive &amp; E 35 St</td>\n",
       "      <td>6230.04</td>\n",
       "      <td>Grand Army Plaza &amp; Central Park S</td>\n",
       "      <td>6839.10</td>\n",
       "      <td>40.744219</td>\n",
       "      <td>-73.971212</td>\n",
       "      <td>40.764397</td>\n",
       "      <td>-73.973715</td>\n",
       "      <td>member</td>\n",
       "    </tr>\n",
       "    <tr>\n",
       "      <th>4</th>\n",
       "      <td>8DBCBF98885106CB</td>\n",
       "      <td>electric_bike</td>\n",
       "      <td>2022-08-25 15:44:48.386</td>\n",
       "      <td>2022-08-25 15:55:39.691</td>\n",
       "      <td>E 40 St &amp; 5 Ave</td>\n",
       "      <td>6474.11</td>\n",
       "      <td>Ave A &amp; E 14 St</td>\n",
       "      <td>5779.11</td>\n",
       "      <td>40.752052</td>\n",
       "      <td>-73.982115</td>\n",
       "      <td>40.730311</td>\n",
       "      <td>-73.980472</td>\n",
       "      <td>member</td>\n",
       "    </tr>\n",
       "  </tbody>\n",
       "</table>\n",
       "</div>"
      ],
      "text/plain": [
       "            ride_id  rideable_type               started_at  \\\n",
       "0  9D0DC440CB40CF8E  electric_bike  2022-08-27 13:56:47.728   \n",
       "1  2214991DFBE5C4D7  electric_bike  2022-08-20 10:37:02.756   \n",
       "2  20C5D469563B6337   classic_bike  2022-08-31 18:55:03.051   \n",
       "3  3E8791885BC189D1   classic_bike  2022-08-02 08:05:00.250   \n",
       "4  8DBCBF98885106CB  electric_bike  2022-08-25 15:44:48.386   \n",
       "\n",
       "                  ended_at        start_station_name start_station_id  \\\n",
       "0  2022-08-27 14:02:56.651  Flatbush Ave & Ocean Ave          3704.04   \n",
       "1  2022-08-20 10:45:56.631    Forsyth St\\t& Grand St          5382.07   \n",
       "2  2022-08-31 19:03:37.344    Perry St & Bleecker St          5922.07   \n",
       "3  2022-08-02 08:16:52.063       FDR Drive & E 35 St          6230.04   \n",
       "4  2022-08-25 15:55:39.691           E 40 St & 5 Ave          6474.11   \n",
       "\n",
       "                    end_station_name end_station_id  start_lat  start_lng  \\\n",
       "0          3 St & Prospect Park West        3865.05  40.663657 -73.963014   \n",
       "1                    E 11 St & 1 Ave        5746.14  40.717798 -73.993161   \n",
       "2               Grand St & Greene St        5500.02  40.735354 -74.004831   \n",
       "3  Grand Army Plaza & Central Park S        6839.10  40.744219 -73.971212   \n",
       "4                    Ave A & E 14 St        5779.11  40.752052 -73.982115   \n",
       "\n",
       "     end_lat    end_lng member_casual  \n",
       "0  40.668132 -73.973638        casual  \n",
       "1  40.729538 -73.984267        casual  \n",
       "2  40.721700 -74.002381        member  \n",
       "3  40.764397 -73.973715        member  \n",
       "4  40.730311 -73.980472        member  "
      ]
     },
     "execution_count": 13,
     "metadata": {},
     "output_type": "execute_result"
    }
   ],
   "source": [
    "# Check dataframe\n",
    "citibike_2022.head()"
   ]
  },
  {
   "cell_type": "code",
   "execution_count": 14,
   "id": "98bb821c-2069-4f09-83dd-87b54dfdf4f2",
   "metadata": {},
   "outputs": [
    {
     "data": {
      "text/html": [
       "<div>\n",
       "<style scoped>\n",
       "    .dataframe tbody tr th:only-of-type {\n",
       "        vertical-align: middle;\n",
       "    }\n",
       "\n",
       "    .dataframe tbody tr th {\n",
       "        vertical-align: top;\n",
       "    }\n",
       "\n",
       "    .dataframe thead th {\n",
       "        text-align: right;\n",
       "    }\n",
       "</style>\n",
       "<table border=\"1\" class=\"dataframe\">\n",
       "  <thead>\n",
       "    <tr style=\"text-align: right;\">\n",
       "      <th></th>\n",
       "      <th>ride_id</th>\n",
       "      <th>rideable_type</th>\n",
       "      <th>started_at</th>\n",
       "      <th>ended_at</th>\n",
       "      <th>start_station_name</th>\n",
       "      <th>start_station_id</th>\n",
       "      <th>end_station_name</th>\n",
       "      <th>end_station_id</th>\n",
       "      <th>start_lat</th>\n",
       "      <th>start_lng</th>\n",
       "      <th>end_lat</th>\n",
       "      <th>end_lng</th>\n",
       "      <th>member_casual</th>\n",
       "    </tr>\n",
       "  </thead>\n",
       "  <tbody>\n",
       "    <tr>\n",
       "      <th>29838801</th>\n",
       "      <td>1F223EDAFF420AE3</td>\n",
       "      <td>electric_bike</td>\n",
       "      <td>2022-12-01 20:26:45.847</td>\n",
       "      <td>2022-12-01 20:30:46.012</td>\n",
       "      <td>Avenue D &amp; E 3 St</td>\n",
       "      <td>5436.09</td>\n",
       "      <td>Stanton St &amp; Chrystie St</td>\n",
       "      <td>5523.02</td>\n",
       "      <td>40.720701</td>\n",
       "      <td>-73.977939</td>\n",
       "      <td>40.722293</td>\n",
       "      <td>-73.991475</td>\n",
       "      <td>member</td>\n",
       "    </tr>\n",
       "    <tr>\n",
       "      <th>29838802</th>\n",
       "      <td>CFA5C560ACB73B8E</td>\n",
       "      <td>classic_bike</td>\n",
       "      <td>2022-12-26 13:46:34.237</td>\n",
       "      <td>2022-12-26 13:52:43.900</td>\n",
       "      <td>43 Ave &amp; 47 St</td>\n",
       "      <td>6209.05</td>\n",
       "      <td>39 Ave &amp; 45 St</td>\n",
       "      <td>6401.03</td>\n",
       "      <td>40.744806</td>\n",
       "      <td>-73.917290</td>\n",
       "      <td>40.749478</td>\n",
       "      <td>-73.918265</td>\n",
       "      <td>member</td>\n",
       "    </tr>\n",
       "    <tr>\n",
       "      <th>29838803</th>\n",
       "      <td>11C8C5E0DB947B07</td>\n",
       "      <td>classic_bike</td>\n",
       "      <td>2022-12-01 05:56:14.903</td>\n",
       "      <td>2022-12-01 06:06:10.357</td>\n",
       "      <td>Avenue D &amp; E 3 St</td>\n",
       "      <td>5436.09</td>\n",
       "      <td>Bleecker St &amp; Crosby St</td>\n",
       "      <td>5679.08</td>\n",
       "      <td>40.720828</td>\n",
       "      <td>-73.977932</td>\n",
       "      <td>40.726156</td>\n",
       "      <td>-73.995102</td>\n",
       "      <td>member</td>\n",
       "    </tr>\n",
       "    <tr>\n",
       "      <th>29838804</th>\n",
       "      <td>5B9B083C534A5964</td>\n",
       "      <td>classic_bike</td>\n",
       "      <td>2022-12-02 11:54:15.871</td>\n",
       "      <td>2022-12-02 12:01:00.747</td>\n",
       "      <td>Montague St &amp; Clinton St</td>\n",
       "      <td>4677.06</td>\n",
       "      <td>Sands St &amp; Jay St</td>\n",
       "      <td>4821.03</td>\n",
       "      <td>40.694271</td>\n",
       "      <td>-73.992327</td>\n",
       "      <td>40.700119</td>\n",
       "      <td>-73.986200</td>\n",
       "      <td>member</td>\n",
       "    </tr>\n",
       "    <tr>\n",
       "      <th>29838805</th>\n",
       "      <td>91C286C462F89A50</td>\n",
       "      <td>classic_bike</td>\n",
       "      <td>2022-12-18 13:35:22.574</td>\n",
       "      <td>2022-12-18 13:37:27.193</td>\n",
       "      <td>Montague St &amp; Clinton St</td>\n",
       "      <td>4677.06</td>\n",
       "      <td>Cadman Plaza E &amp; Tillary St</td>\n",
       "      <td>4677.01</td>\n",
       "      <td>40.694271</td>\n",
       "      <td>-73.992327</td>\n",
       "      <td>40.695977</td>\n",
       "      <td>-73.990149</td>\n",
       "      <td>member</td>\n",
       "    </tr>\n",
       "  </tbody>\n",
       "</table>\n",
       "</div>"
      ],
      "text/plain": [
       "                   ride_id  rideable_type               started_at  \\\n",
       "29838801  1F223EDAFF420AE3  electric_bike  2022-12-01 20:26:45.847   \n",
       "29838802  CFA5C560ACB73B8E   classic_bike  2022-12-26 13:46:34.237   \n",
       "29838803  11C8C5E0DB947B07   classic_bike  2022-12-01 05:56:14.903   \n",
       "29838804  5B9B083C534A5964   classic_bike  2022-12-02 11:54:15.871   \n",
       "29838805  91C286C462F89A50   classic_bike  2022-12-18 13:35:22.574   \n",
       "\n",
       "                         ended_at        start_station_name start_station_id  \\\n",
       "29838801  2022-12-01 20:30:46.012         Avenue D & E 3 St          5436.09   \n",
       "29838802  2022-12-26 13:52:43.900            43 Ave & 47 St          6209.05   \n",
       "29838803  2022-12-01 06:06:10.357         Avenue D & E 3 St          5436.09   \n",
       "29838804  2022-12-02 12:01:00.747  Montague St & Clinton St          4677.06   \n",
       "29838805  2022-12-18 13:37:27.193  Montague St & Clinton St          4677.06   \n",
       "\n",
       "                     end_station_name end_station_id  start_lat  start_lng  \\\n",
       "29838801     Stanton St & Chrystie St        5523.02  40.720701 -73.977939   \n",
       "29838802               39 Ave & 45 St        6401.03  40.744806 -73.917290   \n",
       "29838803      Bleecker St & Crosby St        5679.08  40.720828 -73.977932   \n",
       "29838804            Sands St & Jay St        4821.03  40.694271 -73.992327   \n",
       "29838805  Cadman Plaza E & Tillary St        4677.01  40.694271 -73.992327   \n",
       "\n",
       "            end_lat    end_lng member_casual  \n",
       "29838801  40.722293 -73.991475        member  \n",
       "29838802  40.749478 -73.918265        member  \n",
       "29838803  40.726156 -73.995102        member  \n",
       "29838804  40.700119 -73.986200        member  \n",
       "29838805  40.695977 -73.990149        member  "
      ]
     },
     "execution_count": 14,
     "metadata": {},
     "output_type": "execute_result"
    }
   ],
   "source": [
    "citibike_2022.tail()"
   ]
  },
  {
   "cell_type": "code",
   "execution_count": 15,
   "id": "24e56a09-17c3-4149-9204-b593387eb75b",
   "metadata": {},
   "outputs": [
    {
     "data": {
      "text/plain": [
       "(29838806, 13)"
      ]
     },
     "execution_count": 15,
     "metadata": {},
     "output_type": "execute_result"
    }
   ],
   "source": [
    "# Check shape\n",
    "citibike_2022.shape\n"
   ]
  },
  {
   "cell_type": "code",
   "execution_count": 16,
   "id": "68d3fded-9e93-4189-a209-16ed527e65d9",
   "metadata": {},
   "outputs": [
    {
     "name": "stdout",
     "output_type": "stream",
     "text": [
      "<class 'pandas.core.frame.DataFrame'>\n",
      "RangeIndex: 29838806 entries, 0 to 29838805\n",
      "Data columns (total 13 columns):\n",
      " #   Column              Dtype  \n",
      "---  ------              -----  \n",
      " 0   ride_id             object \n",
      " 1   rideable_type       object \n",
      " 2   started_at          object \n",
      " 3   ended_at            object \n",
      " 4   start_station_name  object \n",
      " 5   start_station_id    object \n",
      " 6   end_station_name    object \n",
      " 7   end_station_id      object \n",
      " 8   start_lat           float64\n",
      " 9   start_lng           float64\n",
      " 10  end_lat             float64\n",
      " 11  end_lng             float64\n",
      " 12  member_casual       object \n",
      "dtypes: float64(4), object(9)\n",
      "memory usage: 2.9+ GB\n"
     ]
    }
   ],
   "source": [
    "# Check info\n",
    "citibike_2022.info()\n"
   ]
  },
  {
   "cell_type": "markdown",
   "id": "e8321242-cbb8-4ffa-9c0a-2c135f01d03e",
   "metadata": {},
   "source": [
    "In this step, I unzipped all the files using the 'zipfile' library so they were CSVs. Then I created a list of all file paths in the data folder using the os library. Each file was then read into a pandas DataFrame using pd.read_csv() within a list comprehension, which provides a concise and efficient way to import multiple files at once.\n",
    "Finally, I used pd.concat() with ignore_index=True to join all individual DataFrames together into one continuous dataset representing the full year of 2022."
   ]
  },
  {
   "cell_type": "markdown",
   "id": "dd5f84c3-b768-4f4a-a740-0141d8c3c6dc",
   "metadata": {},
   "source": [
    "### 2. Import weather data"
   ]
  },
  {
   "cell_type": "code",
   "execution_count": 17,
   "id": "b18bfa46-2f1b-4aa1-8ea0-8c975c1932b3",
   "metadata": {},
   "outputs": [],
   "source": [
    "# Import token\n",
    "NOAA_TOKEN = 'XkPArTbiwSMQXqLdXkhbbhxRDjXDSxxK'"
   ]
  },
  {
   "cell_type": "code",
   "execution_count": 18,
   "id": "4b6dee51-1a35-48b1-af57-e3cdee57609d",
   "metadata": {},
   "outputs": [],
   "source": [
    "# Compile URL\n",
    "url = (\n",
    "    \"https://www.ncdc.noaa.gov/cdo-web/api/v2/data?\"\n",
    "    \"datasetid=GHCND&\"\n",
    "    \"datatypeid=TAVG&\"\n",
    "    \"limit=1000&\"\n",
    "    \"stationid=GHCND:USW00014732&\"\n",
    "    \"startdate=2022-01-01&\"\n",
    "    \"enddate=2022-12-31\"\n",
    ")"
   ]
  },
  {
   "cell_type": "markdown",
   "id": "38604a96-e329-4e35-9c17-ca62e007af28",
   "metadata": {},
   "source": [
    "I told the API to only return the average temperature data"
   ]
  },
  {
   "cell_type": "code",
   "execution_count": 20,
   "id": "ea001582-9ac1-4e01-9131-4ecc6592426b",
   "metadata": {},
   "outputs": [],
   "source": [
    "r = requests.get(url, headers={\"token\": NOAA_TOKEN})\n"
   ]
  },
  {
   "cell_type": "code",
   "execution_count": 21,
   "id": "b2c222f5-45c0-4c37-ac93-db9d1084322b",
   "metadata": {},
   "outputs": [],
   "source": [
    "# Store data in JSON format\n",
    "d = json.loads(r.text)\n"
   ]
  },
  {
   "cell_type": "markdown",
   "id": "6998b9f0-6d78-401b-ae2a-4126bfa21dda",
   "metadata": {},
   "source": [
    "### 3. Wrangle weather data"
   ]
  },
  {
   "cell_type": "code",
   "execution_count": 22,
   "id": "f0ddc10e-bbeb-49c7-925a-ae83c4495b57",
   "metadata": {},
   "outputs": [],
   "source": [
    "dates = [item[\"date\"][:10] for item in d[\"results\"]]"
   ]
  },
  {
   "cell_type": "code",
   "execution_count": 23,
   "id": "051524e7-e9ad-4920-be56-e126d7bc1288",
   "metadata": {},
   "outputs": [],
   "source": [
    "temps = [item['value'] for item in d['results']]"
   ]
  },
  {
   "cell_type": "code",
   "execution_count": 24,
   "id": "9f43f3f6-7e1f-4c06-b128-b3a8fd38b952",
   "metadata": {},
   "outputs": [],
   "source": [
    "# Create weather dataframe\n",
    "weather = pd.DataFrame({'date': dates, 'avg_temp': temps})"
   ]
  },
  {
   "cell_type": "code",
   "execution_count": 25,
   "id": "f4539336-e695-4b26-918c-d665b6b00871",
   "metadata": {},
   "outputs": [
    {
     "data": {
      "text/plain": [
       "[116, 114, 14, -27, 32]"
      ]
     },
     "execution_count": 25,
     "metadata": {},
     "output_type": "execute_result"
    }
   ],
   "source": [
    "# Check what temperature values look like\n",
    "[item['value'] for item in d['results'][:5]]\n"
   ]
  },
  {
   "cell_type": "markdown",
   "id": "6d6ea24f-a158-4e56-9d66-b6c841884a51",
   "metadata": {},
   "source": [
    "I am double checking the temps because I am unsure if they are fahrenheit or celsius or if they are stored in tenths of degrees celsius"
   ]
  },
  {
   "cell_type": "code",
   "execution_count": 26,
   "id": "e86688e2-390b-4421-a667-d3935d05fdfe",
   "metadata": {},
   "outputs": [
    {
     "data": {
      "text/plain": [
       "(-117, 313)"
      ]
     },
     "execution_count": 26,
     "metadata": {},
     "output_type": "execute_result"
    }
   ],
   "source": [
    "# Check min and max\n",
    "weather['avg_temp'].min(), weather['avg_temp'].max()\n"
   ]
  },
  {
   "cell_type": "markdown",
   "id": "5a6ac4e8-0274-4b3e-b206-6d0829418781",
   "metadata": {},
   "source": [
    "Yes, they are definitely in tenths of degrees celsius"
   ]
  },
  {
   "cell_type": "code",
   "execution_count": 27,
   "id": "903d8f7c-bab9-4042-9f0f-43f79b479523",
   "metadata": {},
   "outputs": [],
   "source": [
    "# Divide by ten\n",
    "weather['avg_temp'] = weather['avg_temp'] / 10"
   ]
  },
  {
   "cell_type": "code",
   "execution_count": 28,
   "id": "ec892066-4dcc-4476-b2b3-d9e8e73117f9",
   "metadata": {},
   "outputs": [
    {
     "data": {
      "text/plain": [
       "(-11.7, 31.3)"
      ]
     },
     "execution_count": 28,
     "metadata": {},
     "output_type": "execute_result"
    }
   ],
   "source": [
    "# Check min and max again\n",
    "weather['avg_temp'].min(), weather['avg_temp'].max()"
   ]
  },
  {
   "cell_type": "code",
   "execution_count": 29,
   "id": "482b25c0-7f8e-4804-bdc2-4ca35e2322e1",
   "metadata": {},
   "outputs": [
    {
     "data": {
      "text/html": [
       "<div>\n",
       "<style scoped>\n",
       "    .dataframe tbody tr th:only-of-type {\n",
       "        vertical-align: middle;\n",
       "    }\n",
       "\n",
       "    .dataframe tbody tr th {\n",
       "        vertical-align: top;\n",
       "    }\n",
       "\n",
       "    .dataframe thead th {\n",
       "        text-align: right;\n",
       "    }\n",
       "</style>\n",
       "<table border=\"1\" class=\"dataframe\">\n",
       "  <thead>\n",
       "    <tr style=\"text-align: right;\">\n",
       "      <th></th>\n",
       "      <th>date</th>\n",
       "      <th>avg_temp</th>\n",
       "    </tr>\n",
       "  </thead>\n",
       "  <tbody>\n",
       "    <tr>\n",
       "      <th>0</th>\n",
       "      <td>2022-01-01</td>\n",
       "      <td>11.6</td>\n",
       "    </tr>\n",
       "    <tr>\n",
       "      <th>1</th>\n",
       "      <td>2022-01-02</td>\n",
       "      <td>11.4</td>\n",
       "    </tr>\n",
       "    <tr>\n",
       "      <th>2</th>\n",
       "      <td>2022-01-03</td>\n",
       "      <td>1.4</td>\n",
       "    </tr>\n",
       "    <tr>\n",
       "      <th>3</th>\n",
       "      <td>2022-01-04</td>\n",
       "      <td>-2.7</td>\n",
       "    </tr>\n",
       "    <tr>\n",
       "      <th>4</th>\n",
       "      <td>2022-01-05</td>\n",
       "      <td>3.2</td>\n",
       "    </tr>\n",
       "  </tbody>\n",
       "</table>\n",
       "</div>"
      ],
      "text/plain": [
       "         date  avg_temp\n",
       "0  2022-01-01      11.6\n",
       "1  2022-01-02      11.4\n",
       "2  2022-01-03       1.4\n",
       "3  2022-01-04      -2.7\n",
       "4  2022-01-05       3.2"
      ]
     },
     "execution_count": 29,
     "metadata": {},
     "output_type": "execute_result"
    }
   ],
   "source": [
    "# Check dataframe\n",
    "weather.head()"
   ]
  },
  {
   "cell_type": "markdown",
   "id": "c079fefa-06b5-48e8-89c3-e5deee5bd6a9",
   "metadata": {},
   "source": [
    "### 4. Merge data"
   ]
  },
  {
   "cell_type": "markdown",
   "id": "51c4ca33-6e58-42fd-8e08-b2c45ec734c2",
   "metadata": {},
   "source": [
    "'Weather' dataframe has 'date' column and 'citibike_2022' has 'started_at' column, i will change 'citibike_2022' to 'date' to allign with 'weather' and merge using that"
   ]
  },
  {
   "cell_type": "code",
   "execution_count": 34,
   "id": "c4a321f2-9e55-454b-9b53-fc58d1b3f1d6",
   "metadata": {},
   "outputs": [],
   "source": [
    "citibike_2022['date'] = pd.to_datetime(citibike_2022['started_at']).dt.date"
   ]
  },
  {
   "cell_type": "code",
   "execution_count": 35,
   "id": "b359110a-1578-4c3d-a943-ccddec5dff96",
   "metadata": {},
   "outputs": [],
   "source": [
    "weather['date'] = pd.to_datetime(weather['date']).dt.date"
   ]
  },
  {
   "cell_type": "code",
   "execution_count": 36,
   "id": "8f5935c9-81a1-4d92-a45f-54147df3ff37",
   "metadata": {},
   "outputs": [],
   "source": [
    "# Merge dataframes\n",
    "merged_data = pd.merge(citibike_2022, weather, on='date', how='left')\n"
   ]
  },
  {
   "cell_type": "code",
   "execution_count": 37,
   "id": "f0e17573-11c3-4d42-b3f5-0caed4325e6f",
   "metadata": {},
   "outputs": [
    {
     "data": {
      "text/html": [
       "<div>\n",
       "<style scoped>\n",
       "    .dataframe tbody tr th:only-of-type {\n",
       "        vertical-align: middle;\n",
       "    }\n",
       "\n",
       "    .dataframe tbody tr th {\n",
       "        vertical-align: top;\n",
       "    }\n",
       "\n",
       "    .dataframe thead th {\n",
       "        text-align: right;\n",
       "    }\n",
       "</style>\n",
       "<table border=\"1\" class=\"dataframe\">\n",
       "  <thead>\n",
       "    <tr style=\"text-align: right;\">\n",
       "      <th></th>\n",
       "      <th>date</th>\n",
       "      <th>avg_temp</th>\n",
       "    </tr>\n",
       "  </thead>\n",
       "  <tbody>\n",
       "    <tr>\n",
       "      <th>0</th>\n",
       "      <td>2022-08-27</td>\n",
       "      <td>27.8</td>\n",
       "    </tr>\n",
       "    <tr>\n",
       "      <th>1</th>\n",
       "      <td>2022-08-20</td>\n",
       "      <td>27.9</td>\n",
       "    </tr>\n",
       "    <tr>\n",
       "      <th>2</th>\n",
       "      <td>2022-08-31</td>\n",
       "      <td>25.6</td>\n",
       "    </tr>\n",
       "    <tr>\n",
       "      <th>3</th>\n",
       "      <td>2022-08-02</td>\n",
       "      <td>26.4</td>\n",
       "    </tr>\n",
       "    <tr>\n",
       "      <th>4</th>\n",
       "      <td>2022-08-25</td>\n",
       "      <td>28.1</td>\n",
       "    </tr>\n",
       "  </tbody>\n",
       "</table>\n",
       "</div>"
      ],
      "text/plain": [
       "         date  avg_temp\n",
       "0  2022-08-27      27.8\n",
       "1  2022-08-20      27.9\n",
       "2  2022-08-31      25.6\n",
       "3  2022-08-02      26.4\n",
       "4  2022-08-25      28.1"
      ]
     },
     "execution_count": 37,
     "metadata": {},
     "output_type": "execute_result"
    }
   ],
   "source": [
    "# Check merge\n",
    "merged_data[['date', 'avg_temp']].head()"
   ]
  },
  {
   "cell_type": "code",
   "execution_count": 38,
   "id": "10db12ab-5a82-4eaa-adea-17fbc212aa4f",
   "metadata": {},
   "outputs": [
    {
     "data": {
      "text/plain": [
       "np.int64(640)"
      ]
     },
     "execution_count": 38,
     "metadata": {},
     "output_type": "execute_result"
    }
   ],
   "source": [
    "# Check merge\n",
    "merged_data['avg_temp'].isna().sum()\n"
   ]
  },
  {
   "cell_type": "markdown",
   "id": "f3ddc596-2213-4efc-a4a7-f6a5985f6a73",
   "metadata": {},
   "source": [
    "There are 640 NaNs "
   ]
  },
  {
   "cell_type": "code",
   "execution_count": 39,
   "id": "1d9d9552-d8c4-4d5c-89c7-937d8630b73d",
   "metadata": {},
   "outputs": [],
   "source": [
    "# Export merged_data dataframe\n",
    "merged_data.to_csv(\"citibike_weather_merged_2022.csv\", index=False)\n"
   ]
  },
  {
   "cell_type": "code",
   "execution_count": null,
   "id": "e5c17f39-7eda-4a31-a953-f9a9151cb04b",
   "metadata": {},
   "outputs": [],
   "source": []
  },
  {
   "cell_type": "code",
   "execution_count": null,
   "id": "5cfccee0-2523-4afe-bb35-968bcc9f7056",
   "metadata": {},
   "outputs": [],
   "source": []
  },
  {
   "cell_type": "code",
   "execution_count": null,
   "id": "e1dc3bac-19ef-4752-a6c1-1e4a63d12ab2",
   "metadata": {},
   "outputs": [],
   "source": []
  },
  {
   "cell_type": "code",
   "execution_count": null,
   "id": "58ea69fe-100b-428d-af88-9f82a7566c75",
   "metadata": {},
   "outputs": [],
   "source": []
  },
  {
   "cell_type": "code",
   "execution_count": null,
   "id": "fccb2fe9-e0a0-4667-bb04-e26e7cea893a",
   "metadata": {},
   "outputs": [],
   "source": []
  }
 ],
 "metadata": {
  "kernelspec": {
   "display_name": "Python (citi-bike)",
   "language": "python",
   "name": "citi-bike"
  },
  "language_info": {
   "codemirror_mode": {
    "name": "ipython",
    "version": 3
   },
   "file_extension": ".py",
   "mimetype": "text/x-python",
   "name": "python",
   "nbconvert_exporter": "python",
   "pygments_lexer": "ipython3",
   "version": "3.11.14"
  }
 },
 "nbformat": 4,
 "nbformat_minor": 5
}
